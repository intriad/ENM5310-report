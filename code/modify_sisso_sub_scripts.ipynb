{
 "cells": [
  {
   "cell_type": "code",
   "execution_count": 1,
   "metadata": {},
   "outputs": [],
   "source": [
    "import os"
   ]
  },
  {
   "cell_type": "code",
   "execution_count": 3,
   "metadata": {},
   "outputs": [
    {
     "name": "stdout",
     "output_type": "stream",
     "text": [
      "/home/hsang/ML/allops/NHads/all\n",
      "['#!/bin/bash \\n', '\\n', '#SBATCH -p debug\\n', '#SBATCH -N 1\\n', '#SBATCH --tasks-per-node=32\\n', '#SBATCH -t 01:00:00\\n', '#SBATCH -J SISSO \\n', '#SBATCH -o out.%j\\n', '#SBATCH -e err.%j\\n', '#SBATCH --mail-user=hsang@seas.upenn.edu \\n', '#SBATCH --mail-type=ALL\\n', '#SBATCH -C \"[ib1|ib2|ib3|ib4]\"\\n', '\\n', 'ulimit -s unlimited\\n', 'export XDG_RUNTIME_DIR=/run/user/67574 #you might need to change this \\n', \"export QT_QPA_PLATFORM='offscreen'\\n\", 'module --force unload ase/3.9.1\\n', '\\n', \"/home/hsang/anaconda3/envs/sissopp_env/bin/python sisso.py --feature_list_file='/scratch/alevoj1/intriad/ML/datasets/mxenes/all.txt' --feature_set_file='/scratch/alevoj1/intriad/ML/datasets/mxenes/NH_ads_no_outliers.csv' --n=5 --r=1\"]\n",
      "/home/hsang/ML/allops/NHads/elec\n",
      "['#!/bin/bash \\n', '\\n', '#SBATCH -p debug\\n', '#SBATCH -N 1\\n', '#SBATCH --tasks-per-node=32\\n', '#SBATCH -t 01:00:00\\n', '#SBATCH -J SISSO \\n', '#SBATCH -o out.%j\\n', '#SBATCH -e err.%j\\n', '#SBATCH --mail-user=hsang@seas.upenn.edu \\n', '#SBATCH --mail-type=ALL\\n', '#SBATCH -C \"[ib1|ib2|ib3|ib4]\"\\n', '\\n', 'ulimit -s unlimited\\n', 'export XDG_RUNTIME_DIR=/run/user/67574 #you might need to change this \\n', \"export QT_QPA_PLATFORM='offscreen'\\n\", 'module --force unload ase/3.9.1\\n', '\\n', \"/home/hsang/anaconda3/envs/sissopp_env/bin/python sisso.py --feature_list_file='/scratch/alevoj1/intriad/ML/datasets/mxenes/elec.txt' --feature_set_file='/scratch/alevoj1/intriad/ML/datasets/mxenes/NH_ads_no_outliers.csv' --n=5 --r=1\"]\n",
      "/home/hsang/ML/allops/NHads/geo\n",
      "['#!/bin/bash \\n', '\\n', '#SBATCH -p debug\\n', '#SBATCH -N 1\\n', '#SBATCH --tasks-per-node=32\\n', '#SBATCH -t 01:00:00\\n', '#SBATCH -J SISSO \\n', '#SBATCH -o out.%j\\n', '#SBATCH -e err.%j\\n', '#SBATCH --mail-user=hsang@seas.upenn.edu \\n', '#SBATCH --mail-type=ALL\\n', '#SBATCH -C \"[ib1|ib2|ib3|ib4]\"\\n', '\\n', 'ulimit -s unlimited\\n', 'export XDG_RUNTIME_DIR=/run/user/67574 #you might need to change this \\n', \"export QT_QPA_PLATFORM='offscreen'\\n\", 'module --force unload ase/3.9.1\\n', '\\n', \"/home/hsang/anaconda3/envs/sissopp_env/bin/python sisso.py --feature_list_file='/scratch/alevoj1/intriad/ML/datasets/mxenes/geo.txt' --feature_set_file='/scratch/alevoj1/intriad/ML/datasets/mxenes/NH_ads_no_outliers.csv' --n=5 --r=1\"]\n",
      "/home/hsang/ML/allops/NHads/tab\n",
      "['#!/bin/bash \\n', '\\n', '#SBATCH -p debug\\n', '#SBATCH -N 1\\n', '#SBATCH --tasks-per-node=32\\n', '#SBATCH -t 01:00:00\\n', '#SBATCH -J SISSO \\n', '#SBATCH -o out.%j\\n', '#SBATCH -e err.%j\\n', '#SBATCH --mail-user=hsang@seas.upenn.edu \\n', '#SBATCH --mail-type=ALL\\n', '#SBATCH -C \"[ib1|ib2|ib3|ib4]\"\\n', '\\n', 'ulimit -s unlimited\\n', 'export XDG_RUNTIME_DIR=/run/user/67574 #you might need to change this \\n', \"export QT_QPA_PLATFORM='offscreen'\\n\", 'module --force unload ase/3.9.1\\n', '\\n', \"/home/hsang/anaconda3/envs/sissopp_env/bin/python sisso.py --feature_list_file='/scratch/alevoj1/intriad/ML/datasets/mxenes/tab.txt' --feature_set_file='/scratch/alevoj1/intriad/ML/datasets/mxenes/NH_ads_no_outliers.csv' --n=5 --r=1\"]\n",
      "/home/hsang/ML/allops/Hads/tab\n",
      "['#!/bin/bash \\n', '\\n', '#SBATCH -p debug\\n', '#SBATCH -N 1\\n', '#SBATCH --tasks-per-node=32\\n', '#SBATCH -t 01:00:00\\n', '#SBATCH -J SISSO \\n', '#SBATCH -o out.%j\\n', '#SBATCH -e err.%j\\n', '#SBATCH --mail-user=hsang@seas.upenn.edu \\n', '#SBATCH --mail-type=ALL\\n', '#SBATCH -C \"[ib1|ib2|ib3|ib4]\"\\n', '\\n', 'ulimit -s unlimited\\n', 'export XDG_RUNTIME_DIR=/run/user/67574 #you might need to change this \\n', \"export QT_QPA_PLATFORM='offscreen'\\n\", 'module --force unload ase/3.9.1\\n', '\\n', \"/home/hsang/anaconda3/envs/sissopp_env/bin/python sisso.py --feature_list_file='/scratch/alevoj1/intriad/ML/datasets/mxenes/tab.txt' --feature_set_file='/scratch/alevoj1/intriad/ML/datasets/mxenes/H_ads_no_outliers.csv' --n=5 --r=1\"]\n",
      "/home/hsang/ML/allops/Hads/geo\n",
      "['#!/bin/bash \\n', '\\n', '#SBATCH -p debug\\n', '#SBATCH -N 1\\n', '#SBATCH --tasks-per-node=32\\n', '#SBATCH -t 01:00:00\\n', '#SBATCH -J SISSO \\n', '#SBATCH -o out.%j\\n', '#SBATCH -e err.%j\\n', '#SBATCH --mail-user=hsang@seas.upenn.edu \\n', '#SBATCH --mail-type=ALL\\n', '#SBATCH -C \"[ib1|ib2|ib3|ib4]\"\\n', '\\n', 'ulimit -s unlimited\\n', 'export XDG_RUNTIME_DIR=/run/user/67574 #you might need to change this \\n', \"export QT_QPA_PLATFORM='offscreen'\\n\", 'module --force unload ase/3.9.1\\n', '\\n', \"/home/hsang/anaconda3/envs/sissopp_env/bin/python sisso.py --feature_list_file='/scratch/alevoj1/intriad/ML/datasets/mxenes/geo.txt' --feature_set_file='/scratch/alevoj1/intriad/ML/datasets/mxenes/H_ads_no_outliers.csv' --n=5 --r=1\"]\n",
      "/home/hsang/ML/allops/Hads/elec\n",
      "['#!/bin/bash \\n', '\\n', '#SBATCH -p debug\\n', '#SBATCH -N 1\\n', '#SBATCH --tasks-per-node=32\\n', '#SBATCH -t 01:00:00\\n', '#SBATCH -J SISSO \\n', '#SBATCH -o out.%j\\n', '#SBATCH -e err.%j\\n', '#SBATCH --mail-user=hsang@seas.upenn.edu \\n', '#SBATCH --mail-type=ALL\\n', '#SBATCH -C \"[ib1|ib2|ib3|ib4]\"\\n', '\\n', 'ulimit -s unlimited\\n', 'export XDG_RUNTIME_DIR=/run/user/67574 #you might need to change this \\n', \"export QT_QPA_PLATFORM='offscreen'\\n\", 'module --force unload ase/3.9.1\\n', '\\n', \"/home/hsang/anaconda3/envs/sissopp_env/bin/python sisso.py --feature_list_file='/scratch/alevoj1/intriad/ML/datasets/mxenes/elec.txt' --feature_set_file='/scratch/alevoj1/intriad/ML/datasets/mxenes/H_ads_no_outliers.csv' --n=5 --r=1\"]\n",
      "/home/hsang/ML/allops/Hads/all\n",
      "['#!/bin/bash \\n', '\\n', '#SBATCH -p debug\\n', '#SBATCH -N 1\\n', '#SBATCH --tasks-per-node=32\\n', '#SBATCH -t 01:00:00\\n', '#SBATCH -J SISSO \\n', '#SBATCH -o out.%j\\n', '#SBATCH -e err.%j\\n', '#SBATCH --mail-user=hsang@seas.upenn.edu \\n', '#SBATCH --mail-type=ALL\\n', '#SBATCH -C \"[ib1|ib2|ib3|ib4]\"\\n', '\\n', 'ulimit -s unlimited\\n', 'export XDG_RUNTIME_DIR=/run/user/67574 #you might need to change this \\n', \"export QT_QPA_PLATFORM='offscreen'\\n\", 'module --force unload ase/3.9.1\\n', '\\n', \"/home/hsang/anaconda3/envs/sissopp_env/bin/python sisso.py --feature_list_file='/scratch/alevoj1/intriad/ML/datasets/mxenes/all.txt' --feature_set_file='/scratch/alevoj1/intriad/ML/datasets/mxenes/H_ads_no_outliers.csv' --n=5 --r=1\"]\n",
      "/home/hsang/ML/allops/Nads/elec\n",
      "['#!/bin/bash \\n', '\\n', '#SBATCH -p debug\\n', '#SBATCH -N 1\\n', '#SBATCH --tasks-per-node=32\\n', '#SBATCH -t 01:00:00\\n', '#SBATCH -J SISSO \\n', '#SBATCH -o out.%j\\n', '#SBATCH -e err.%j\\n', '#SBATCH --mail-user=hsang@seas.upenn.edu \\n', '#SBATCH --mail-type=ALL\\n', '#SBATCH -C \"[ib1|ib2|ib3|ib4]\"\\n', '\\n', 'ulimit -s unlimited\\n', 'export XDG_RUNTIME_DIR=/run/user/67574 #you might need to change this \\n', \"export QT_QPA_PLATFORM='offscreen'\\n\", 'module --force unload ase/3.9.1\\n', '\\n', \"/home/hsang/anaconda3/envs/sissopp_env/bin/python sisso.py --feature_list_file='/scratch/alevoj1/intriad/ML/datasets/mxenes/elec.txt' --feature_set_file='/scratch/alevoj1/intriad/ML/datasets/mxenes/N_ads_no_outliers.csv' --n=5 --r=1\"]\n",
      "/home/hsang/ML/allops/Nads/all\n",
      "['#!/bin/bash \\n', '\\n', '#SBATCH -p debug\\n', '#SBATCH -N 1\\n', '#SBATCH --tasks-per-node=32\\n', '#SBATCH -t 01:00:00\\n', '#SBATCH -J SISSO \\n', '#SBATCH -o out.%j\\n', '#SBATCH -e err.%j\\n', '#SBATCH --mail-user=hsang@seas.upenn.edu \\n', '#SBATCH --mail-type=ALL\\n', '#SBATCH -C \"[ib1|ib2|ib3|ib4]\"\\n', '\\n', 'ulimit -s unlimited\\n', 'export XDG_RUNTIME_DIR=/run/user/67574 #you might need to change this \\n', \"export QT_QPA_PLATFORM='offscreen'\\n\", 'module --force unload ase/3.9.1\\n', '\\n', \"/home/hsang/anaconda3/envs/sissopp_env/bin/python sisso.py --feature_list_file='/scratch/alevoj1/intriad/ML/datasets/mxenes/all.txt' --feature_set_file='/scratch/alevoj1/intriad/ML/datasets/mxenes/N_ads_no_outliers.csv' --n=5 --r=1\"]\n",
      "/home/hsang/ML/allops/Nads/tab\n",
      "['#!/bin/bash \\n', '\\n', '#SBATCH -p debug\\n', '#SBATCH -N 1\\n', '#SBATCH --tasks-per-node=32\\n', '#SBATCH -t 01:00:00\\n', '#SBATCH -J SISSO \\n', '#SBATCH -o out.%j\\n', '#SBATCH -e err.%j\\n', '#SBATCH --mail-user=hsang@seas.upenn.edu \\n', '#SBATCH --mail-type=ALL\\n', '#SBATCH -C \"[ib1|ib2|ib3|ib4]\"\\n', '\\n', 'ulimit -s unlimited\\n', 'export XDG_RUNTIME_DIR=/run/user/67574 #you might need to change this \\n', \"export QT_QPA_PLATFORM='offscreen'\\n\", 'module --force unload ase/3.9.1\\n', '\\n', \"/home/hsang/anaconda3/envs/sissopp_env/bin/python sisso.py --feature_list_file='/scratch/alevoj1/intriad/ML/datasets/mxenes/tab.txt' --feature_set_file='/scratch/alevoj1/intriad/ML/datasets/mxenes/N_ads_no_outliers.csv' --n=5 --r=1\"]\n",
      "/home/hsang/ML/allops/Nads/geo\n",
      "['#!/bin/bash \\n', '\\n', '#SBATCH -p debug\\n', '#SBATCH -N 1\\n', '#SBATCH --tasks-per-node=32\\n', '#SBATCH -t 01:00:00\\n', '#SBATCH -J SISSO \\n', '#SBATCH -o out.%j\\n', '#SBATCH -e err.%j\\n', '#SBATCH --mail-user=hsang@seas.upenn.edu \\n', '#SBATCH --mail-type=ALL\\n', '#SBATCH -C \"[ib1|ib2|ib3|ib4]\"\\n', '\\n', 'ulimit -s unlimited\\n', 'export XDG_RUNTIME_DIR=/run/user/67574 #you might need to change this \\n', \"export QT_QPA_PLATFORM='offscreen'\\n\", 'module --force unload ase/3.9.1\\n', '\\n', \"/home/hsang/anaconda3/envs/sissopp_env/bin/python sisso.py --feature_list_file='/scratch/alevoj1/intriad/ML/datasets/mxenes/geo.txt' --feature_set_file='/scratch/alevoj1/intriad/ML/datasets/mxenes/N_ads_no_outliers.csv' --n=5 --r=1\"]\n",
      "/home/hsang/ML/allops/N2Hads/all\n",
      "['#!/bin/bash \\n', '\\n', '#SBATCH -p debug\\n', '#SBATCH -N 1\\n', '#SBATCH --tasks-per-node=32\\n', '#SBATCH -t 01:00:00\\n', '#SBATCH -J SISSO \\n', '#SBATCH -o out.%j\\n', '#SBATCH -e err.%j\\n', '#SBATCH --mail-user=hsang@seas.upenn.edu \\n', '#SBATCH --mail-type=ALL\\n', '#SBATCH -C \"[ib1|ib2|ib3|ib4]\"\\n', '\\n', 'ulimit -s unlimited\\n', 'export XDG_RUNTIME_DIR=/run/user/67574 #you might need to change this \\n', \"export QT_QPA_PLATFORM='offscreen'\\n\", 'module --force unload ase/3.9.1\\n', '\\n', \"/home/hsang/anaconda3/envs/sissopp_env/bin/python sisso.py --feature_list_file='/scratch/alevoj1/intriad/ML/datasets/mxenes/all.txt' --feature_set_file='/scratch/alevoj1/intriad/ML/datasets/mxenes/N2H_ads_no_outliers.csv' --n=5 --r=1\"]\n",
      "/home/hsang/ML/allops/N2Hads/elec\n",
      "['#!/bin/bash \\n', '\\n', '#SBATCH -p debug\\n', '#SBATCH -N 1\\n', '#SBATCH --tasks-per-node=32\\n', '#SBATCH -t 01:00:00\\n', '#SBATCH -J SISSO \\n', '#SBATCH -o out.%j\\n', '#SBATCH -e err.%j\\n', '#SBATCH --mail-user=hsang@seas.upenn.edu \\n', '#SBATCH --mail-type=ALL\\n', '#SBATCH -C \"[ib1|ib2|ib3|ib4]\"\\n', '\\n', 'ulimit -s unlimited\\n', 'export XDG_RUNTIME_DIR=/run/user/67574 #you might need to change this \\n', \"export QT_QPA_PLATFORM='offscreen'\\n\", 'module --force unload ase/3.9.1\\n', '\\n', \"/home/hsang/anaconda3/envs/sissopp_env/bin/python sisso.py --feature_list_file='/scratch/alevoj1/intriad/ML/datasets/mxenes/elec.txt' --feature_set_file='/scratch/alevoj1/intriad/ML/datasets/mxenes/N2H_ads_no_outliers.csv' --n=5 --r=1\"]\n",
      "/home/hsang/ML/allops/N2Hads/tab\n",
      "['#!/bin/bash \\n', '\\n', '#SBATCH -p debug\\n', '#SBATCH -N 1\\n', '#SBATCH --tasks-per-node=32\\n', '#SBATCH -t 01:00:00\\n', '#SBATCH -J SISSO \\n', '#SBATCH -o out.%j\\n', '#SBATCH -e err.%j\\n', '#SBATCH --mail-user=hsang@seas.upenn.edu \\n', '#SBATCH --mail-type=ALL\\n', '#SBATCH -C \"[ib1|ib2|ib3|ib4]\"\\n', '\\n', 'ulimit -s unlimited\\n', 'export XDG_RUNTIME_DIR=/run/user/67574 #you might need to change this \\n', \"export QT_QPA_PLATFORM='offscreen'\\n\", 'module --force unload ase/3.9.1\\n', '\\n', \"/home/hsang/anaconda3/envs/sissopp_env/bin/python sisso.py --feature_list_file='/scratch/alevoj1/intriad/ML/datasets/mxenes/tab.txt' --feature_set_file='/scratch/alevoj1/intriad/ML/datasets/mxenes/N2H_ads_no_outliers.csv' --n=5 --r=1\"]\n",
      "/home/hsang/ML/allops/N2Hads/geo\n",
      "['#!/bin/bash \\n', '\\n', '#SBATCH -p debug\\n', '#SBATCH -N 1\\n', '#SBATCH --tasks-per-node=32\\n', '#SBATCH -t 01:00:00\\n', '#SBATCH -J SISSO \\n', '#SBATCH -o out.%j\\n', '#SBATCH -e err.%j\\n', '#SBATCH --mail-user=hsang@seas.upenn.edu \\n', '#SBATCH --mail-type=ALL\\n', '#SBATCH -C \"[ib1|ib2|ib3|ib4]\"\\n', '\\n', 'ulimit -s unlimited\\n', 'export XDG_RUNTIME_DIR=/run/user/67574 #you might need to change this \\n', \"export QT_QPA_PLATFORM='offscreen'\\n\", 'module --force unload ase/3.9.1\\n', '\\n', \"/home/hsang/anaconda3/envs/sissopp_env/bin/python sisso.py --feature_list_file='/scratch/alevoj1/intriad/ML/datasets/mxenes/geo.txt' --feature_set_file='/scratch/alevoj1/intriad/ML/datasets/mxenes/N2H_ads_no_outliers.csv' --n=5 --r=1\"]\n",
      "/home/hsang/ML/allops/NH3ads/all\n",
      "['#!/bin/bash \\n', '\\n', '#SBATCH -p debug\\n', '#SBATCH -N 1\\n', '#SBATCH --tasks-per-node=32\\n', '#SBATCH -t 01:00:00\\n', '#SBATCH -J SISSO \\n', '#SBATCH -o out.%j\\n', '#SBATCH -e err.%j\\n', '#SBATCH --mail-user=hsang@seas.upenn.edu \\n', '#SBATCH --mail-type=ALL\\n', '#SBATCH -C \"[ib1|ib2|ib3|ib4]\"\\n', '\\n', 'ulimit -s unlimited\\n', 'export XDG_RUNTIME_DIR=/run/user/67574 #you might need to change this \\n', \"export QT_QPA_PLATFORM='offscreen'\\n\", 'module --force unload ase/3.9.1\\n', '\\n', \"/home/hsang/anaconda3/envs/sissopp_env/bin/python sisso.py --feature_list_file='/scratch/alevoj1/intriad/ML/datasets/mxenes/all.txt' --feature_set_file='/scratch/alevoj1/intriad/ML/datasets/mxenes/NH3_ads_no_outliers.csv' --n=5 --r=1\"]\n",
      "/home/hsang/ML/allops/NH3ads/tab\n",
      "['#!/bin/bash \\n', '\\n', '#SBATCH -p debug\\n', '#SBATCH -N 1\\n', '#SBATCH --tasks-per-node=32\\n', '#SBATCH -t 01:00:00\\n', '#SBATCH -J SISSO \\n', '#SBATCH -o out.%j\\n', '#SBATCH -e err.%j\\n', '#SBATCH --mail-user=hsang@seas.upenn.edu \\n', '#SBATCH --mail-type=ALL\\n', '#SBATCH -C \"[ib1|ib2|ib3|ib4]\"\\n', '\\n', 'ulimit -s unlimited\\n', 'export XDG_RUNTIME_DIR=/run/user/67574 #you might need to change this \\n', \"export QT_QPA_PLATFORM='offscreen'\\n\", 'module --force unload ase/3.9.1\\n', '\\n', \"/home/hsang/anaconda3/envs/sissopp_env/bin/python sisso.py --feature_list_file='/scratch/alevoj1/intriad/ML/datasets/mxenes/tab.txt' --feature_set_file='/scratch/alevoj1/intriad/ML/datasets/mxenes/NH3_ads_no_outliers.csv' --n=5 --r=1\"]\n",
      "/home/hsang/ML/allops/NH3ads/elec\n",
      "['#!/bin/bash \\n', '\\n', '#SBATCH -p debug\\n', '#SBATCH -N 1\\n', '#SBATCH --tasks-per-node=32\\n', '#SBATCH -t 01:00:00\\n', '#SBATCH -J SISSO \\n', '#SBATCH -o out.%j\\n', '#SBATCH -e err.%j\\n', '#SBATCH --mail-user=hsang@seas.upenn.edu \\n', '#SBATCH --mail-type=ALL\\n', '#SBATCH -C \"[ib1|ib2|ib3|ib4]\"\\n', '\\n', 'ulimit -s unlimited\\n', 'export XDG_RUNTIME_DIR=/run/user/67574 #you might need to change this \\n', \"export QT_QPA_PLATFORM='offscreen'\\n\", 'module --force unload ase/3.9.1\\n', '\\n', \"/home/hsang/anaconda3/envs/sissopp_env/bin/python sisso.py --feature_list_file='/scratch/alevoj1/intriad/ML/datasets/mxenes/elec.txt' --feature_set_file='/scratch/alevoj1/intriad/ML/datasets/mxenes/NH3_ads_no_outliers.csv' --n=5 --r=1\"]\n",
      "/home/hsang/ML/allops/NH3ads/geo\n",
      "['#!/bin/bash \\n', '\\n', '#SBATCH -p debug\\n', '#SBATCH -N 1\\n', '#SBATCH --tasks-per-node=32\\n', '#SBATCH -t 01:00:00\\n', '#SBATCH -J SISSO \\n', '#SBATCH -o out.%j\\n', '#SBATCH -e err.%j\\n', '#SBATCH --mail-user=hsang@seas.upenn.edu \\n', '#SBATCH --mail-type=ALL\\n', '#SBATCH -C \"[ib1|ib2|ib3|ib4]\"\\n', '\\n', 'ulimit -s unlimited\\n', 'export XDG_RUNTIME_DIR=/run/user/67574 #you might need to change this \\n', \"export QT_QPA_PLATFORM='offscreen'\\n\", 'module --force unload ase/3.9.1\\n', '\\n', \"/home/hsang/anaconda3/envs/sissopp_env/bin/python sisso.py --feature_list_file='/scratch/alevoj1/intriad/ML/datasets/mxenes/geo.txt' --feature_set_file='/scratch/alevoj1/intriad/ML/datasets/mxenes/NH3_ads_no_outliers.csv' --n=5 --r=1\"]\n",
      "/home/hsang/ML/allops/N2H2ads/tab\n",
      "['#!/bin/bash \\n', '\\n', '#SBATCH -p debug\\n', '#SBATCH -N 1\\n', '#SBATCH --tasks-per-node=32\\n', '#SBATCH -t 01:00:00\\n', '#SBATCH -J SISSO \\n', '#SBATCH -o out.%j\\n', '#SBATCH -e err.%j\\n', '#SBATCH --mail-user=hsang@seas.upenn.edu \\n', '#SBATCH --mail-type=ALL\\n', '#SBATCH -C \"[ib1|ib2|ib3|ib4]\"\\n', '\\n', 'ulimit -s unlimited\\n', 'export XDG_RUNTIME_DIR=/run/user/67574 #you might need to change this \\n', \"export QT_QPA_PLATFORM='offscreen'\\n\", 'module --force unload ase/3.9.1\\n', '\\n', \"/home/hsang/anaconda3/envs/sissopp_env/bin/python sisso.py --feature_list_file='/scratch/alevoj1/intriad/ML/datasets/mxenes/tab.txt' --feature_set_file='/scratch/alevoj1/intriad/ML/datasets/mxenes/N2H2_ads_no_outliers.csv' --n=5 --r=1\"]\n",
      "/home/hsang/ML/allops/N2H2ads/elec\n",
      "['#!/bin/bash \\n', '\\n', '#SBATCH -p debug\\n', '#SBATCH -N 1\\n', '#SBATCH --tasks-per-node=32\\n', '#SBATCH -t 01:00:00\\n', '#SBATCH -J SISSO \\n', '#SBATCH -o out.%j\\n', '#SBATCH -e err.%j\\n', '#SBATCH --mail-user=hsang@seas.upenn.edu \\n', '#SBATCH --mail-type=ALL\\n', '#SBATCH -C \"[ib1|ib2|ib3|ib4]\"\\n', '\\n', 'ulimit -s unlimited\\n', 'export XDG_RUNTIME_DIR=/run/user/67574 #you might need to change this \\n', \"export QT_QPA_PLATFORM='offscreen'\\n\", 'module --force unload ase/3.9.1\\n', '\\n', \"/home/hsang/anaconda3/envs/sissopp_env/bin/python sisso.py --feature_list_file='/scratch/alevoj1/intriad/ML/datasets/mxenes/elec.txt' --feature_set_file='/scratch/alevoj1/intriad/ML/datasets/mxenes/N2H2_ads_no_outliers.csv' --n=5 --r=1\"]\n",
      "/home/hsang/ML/allops/N2H2ads/geo\n",
      "['#!/bin/bash \\n', '\\n', '#SBATCH -p debug\\n', '#SBATCH -N 1\\n', '#SBATCH --tasks-per-node=32\\n', '#SBATCH -t 01:00:00\\n', '#SBATCH -J SISSO \\n', '#SBATCH -o out.%j\\n', '#SBATCH -e err.%j\\n', '#SBATCH --mail-user=hsang@seas.upenn.edu \\n', '#SBATCH --mail-type=ALL\\n', '#SBATCH -C \"[ib1|ib2|ib3|ib4]\"\\n', '\\n', 'ulimit -s unlimited\\n', 'export XDG_RUNTIME_DIR=/run/user/67574 #you might need to change this \\n', \"export QT_QPA_PLATFORM='offscreen'\\n\", 'module --force unload ase/3.9.1\\n', '\\n', \"/home/hsang/anaconda3/envs/sissopp_env/bin/python sisso.py --feature_list_file='/scratch/alevoj1/intriad/ML/datasets/mxenes/geo.txt' --feature_set_file='/scratch/alevoj1/intriad/ML/datasets/mxenes/N2H2_ads_no_outliers.csv' --n=5 --r=1\"]\n",
      "/home/hsang/ML/allops/N2H2ads/all\n",
      "['#!/bin/bash \\n', '\\n', '#SBATCH -p debug\\n', '#SBATCH -N 1\\n', '#SBATCH --tasks-per-node=32\\n', '#SBATCH -t 01:00:00\\n', '#SBATCH -J SISSO \\n', '#SBATCH -o out.%j\\n', '#SBATCH -e err.%j\\n', '#SBATCH --mail-user=hsang@seas.upenn.edu \\n', '#SBATCH --mail-type=ALL\\n', '#SBATCH -C \"[ib1|ib2|ib3|ib4]\"\\n', '\\n', 'ulimit -s unlimited\\n', 'export XDG_RUNTIME_DIR=/run/user/67574 #you might need to change this \\n', \"export QT_QPA_PLATFORM='offscreen'\\n\", 'module --force unload ase/3.9.1\\n', '\\n', \"/home/hsang/anaconda3/envs/sissopp_env/bin/python sisso.py --feature_list_file='/scratch/alevoj1/intriad/ML/datasets/mxenes/all.txt' --feature_set_file='/scratch/alevoj1/intriad/ML/datasets/mxenes/N2H2_ads_no_outliers.csv' --n=5 --r=1\"]\n",
      "/home/hsang/ML/allops/NH2ads/geo\n",
      "['#!/bin/bash \\n', '\\n', '#SBATCH -p debug\\n', '#SBATCH -N 1\\n', '#SBATCH --tasks-per-node=32\\n', '#SBATCH -t 01:00:00\\n', '#SBATCH -J SISSO \\n', '#SBATCH -o out.%j\\n', '#SBATCH -e err.%j\\n', '#SBATCH --mail-user=hsang@seas.upenn.edu \\n', '#SBATCH --mail-type=ALL\\n', '#SBATCH -C \"[ib1|ib2|ib3|ib4]\"\\n', '\\n', 'ulimit -s unlimited\\n', 'export XDG_RUNTIME_DIR=/run/user/67574 #you might need to change this \\n', \"export QT_QPA_PLATFORM='offscreen'\\n\", 'module --force unload ase/3.9.1\\n', '\\n', \"/home/hsang/anaconda3/envs/sissopp_env/bin/python sisso.py --feature_list_file='/scratch/alevoj1/intriad/ML/datasets/mxenes/geo.txt' --feature_set_file='/scratch/alevoj1/intriad/ML/datasets/mxenes/NH2_ads_no_outliers.csv' --n=5 --r=1\"]\n",
      "/home/hsang/ML/allops/NH2ads/tab\n",
      "['#!/bin/bash \\n', '\\n', '#SBATCH -p debug\\n', '#SBATCH -N 1\\n', '#SBATCH --tasks-per-node=32\\n', '#SBATCH -t 01:00:00\\n', '#SBATCH -J SISSO \\n', '#SBATCH -o out.%j\\n', '#SBATCH -e err.%j\\n', '#SBATCH --mail-user=hsang@seas.upenn.edu \\n', '#SBATCH --mail-type=ALL\\n', '#SBATCH -C \"[ib1|ib2|ib3|ib4]\"\\n', '\\n', 'ulimit -s unlimited\\n', 'export XDG_RUNTIME_DIR=/run/user/67574 #you might need to change this \\n', \"export QT_QPA_PLATFORM='offscreen'\\n\", 'module --force unload ase/3.9.1\\n', '\\n', \"/home/hsang/anaconda3/envs/sissopp_env/bin/python sisso.py --feature_list_file='/scratch/alevoj1/intriad/ML/datasets/mxenes/tab.txt' --feature_set_file='/scratch/alevoj1/intriad/ML/datasets/mxenes/NH2_ads_no_outliers.csv' --n=5 --r=1\"]\n",
      "/home/hsang/ML/allops/NH2ads/all\n",
      "['#!/bin/bash \\n', '\\n', '#SBATCH -p debug\\n', '#SBATCH -N 1\\n', '#SBATCH --tasks-per-node=32\\n', '#SBATCH -t 01:00:00\\n', '#SBATCH -J SISSO \\n', '#SBATCH -o out.%j\\n', '#SBATCH -e err.%j\\n', '#SBATCH --mail-user=hsang@seas.upenn.edu \\n', '#SBATCH --mail-type=ALL\\n', '#SBATCH -C \"[ib1|ib2|ib3|ib4]\"\\n', '\\n', 'ulimit -s unlimited\\n', 'export XDG_RUNTIME_DIR=/run/user/67574 #you might need to change this \\n', \"export QT_QPA_PLATFORM='offscreen'\\n\", 'module --force unload ase/3.9.1\\n', '\\n', \"/home/hsang/anaconda3/envs/sissopp_env/bin/python sisso.py --feature_list_file='/scratch/alevoj1/intriad/ML/datasets/mxenes/all.txt' --feature_set_file='/scratch/alevoj1/intriad/ML/datasets/mxenes/NH2_ads_no_outliers.csv' --n=5 --r=1\"]\n",
      "/home/hsang/ML/allops/NH2ads/elec\n",
      "['#!/bin/bash \\n', '\\n', '#SBATCH -p debug\\n', '#SBATCH -N 1\\n', '#SBATCH --tasks-per-node=32\\n', '#SBATCH -t 01:00:00\\n', '#SBATCH -J SISSO \\n', '#SBATCH -o out.%j\\n', '#SBATCH -e err.%j\\n', '#SBATCH --mail-user=hsang@seas.upenn.edu \\n', '#SBATCH --mail-type=ALL\\n', '#SBATCH -C \"[ib1|ib2|ib3|ib4]\"\\n', '\\n', 'ulimit -s unlimited\\n', 'export XDG_RUNTIME_DIR=/run/user/67574 #you might need to change this \\n', \"export QT_QPA_PLATFORM='offscreen'\\n\", 'module --force unload ase/3.9.1\\n', '\\n', \"/home/hsang/anaconda3/envs/sissopp_env/bin/python sisso.py --feature_list_file='/scratch/alevoj1/intriad/ML/datasets/mxenes/elec.txt' --feature_set_file='/scratch/alevoj1/intriad/ML/datasets/mxenes/NH2_ads_no_outliers.csv' --n=5 --r=1\"]\n"
     ]
    }
   ],
   "source": [
    "def search_and_change_sub(directory):\n",
    "    output_file = \"sisso.sub\"\n",
    "    for root, dirs, files in os.walk(directory):\n",
    "        if \"sisso.sub\" in files:\n",
    "            ads = root.split('ads/')[0].split('/')[-1]\n",
    "            feat = root.split('ads/')[-1].split('/')[0]\n",
    "            with open(os.path.join(root,output_file), 'r') as file:\n",
    "                lines = file.readlines()\n",
    "                for i, line in enumerate(lines):\n",
    "                    if line.startswith('/home/hsang'):\n",
    "                        lines[i] = f\"/home/hsang/anaconda3/envs/sissopp_env/bin/python sisso.py --feature_list_file='/scratch/alevoj1/intriad/ML/datasets/mxenes/{feat}.txt' --feature_set_file='/scratch/alevoj1/intriad/ML/datasets/mxenes/{ads}_ads_no_outliers.csv' --n=5 --r=1\"\n",
    "            print(root)\n",
    "            print(lines)\n",
    "            with open(os.path.join(root, output_file), 'w') as file:\n",
    "                file.writelines(lines)\n",
    "            \n",
    "# Specify the directory where you want to start the search\n",
    "directory = \"/home/hsang/ML/allops\"\n",
    "\n",
    "search_and_change_sub(directory)"
   ]
  }
 ],
 "metadata": {
  "kernelspec": {
   "display_name": "sissopp_env",
   "language": "python",
   "name": "python3"
  },
  "language_info": {
   "codemirror_mode": {
    "name": "ipython",
    "version": 3
   },
   "file_extension": ".py",
   "mimetype": "text/x-python",
   "name": "python",
   "nbconvert_exporter": "python",
   "pygments_lexer": "ipython3",
   "version": "3.9.20"
  }
 },
 "nbformat": 4,
 "nbformat_minor": 2
}
