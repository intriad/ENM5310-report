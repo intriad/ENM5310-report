{
 "cells": [
  {
   "cell_type": "code",
   "execution_count": null,
   "metadata": {},
   "outputs": [],
   "source": [
    "import os\n",
    "from time import sleep"
   ]
  },
  {
   "cell_type": "code",
   "execution_count": null,
   "metadata": {},
   "outputs": [],
   "source": [
    "parent = '/scratch/alevoj1/intriad/ML/datasets/mxenes'\n",
    "\n",
    "datasets = ['H_ads_no_outliers.csv', 'N_ads_no_outliers.csv', 'N2H_ads_no_outliers.csv', 'NH2_ads_no_outliers.csv', 'NH3_ads_no_outliers.csv', 'NH_ads_no_outliers.csv', 'N2H2_ads_no_outliers.csv']\n",
    "features = ['elec.txt', 'geo.txt', 'tab.txt', 'all.txt']"
   ]
  },
  {
   "cell_type": "code",
   "execution_count": null,
   "metadata": {},
   "outputs": [],
   "source": [
    "for feature in features:\n",
    "    for data in datasets:\n",
    "        sleep(1)\n",
    "        os.system(f'python /home/intriago/scripts/submissions/ML/enm5310/code/newton_linear_regression.py {parent}/{feature} {parent}/{data}')"
   ]
  },
  {
   "cell_type": "code",
   "execution_count": null,
   "metadata": {},
   "outputs": [],
   "source": []
  }
 ],
 "metadata": {
  "kernelspec": {
   "display_name": "NeuralNet",
   "language": "python",
   "name": "python3"
  },
  "language_info": {
   "codemirror_mode": {
    "name": "ipython",
    "version": 3
   },
   "file_extension": ".py",
   "mimetype": "text/x-python",
   "name": "python",
   "nbconvert_exporter": "python",
   "pygments_lexer": "ipython3",
   "version": "3.11.10"
  }
 },
 "nbformat": 4,
 "nbformat_minor": 2
}
