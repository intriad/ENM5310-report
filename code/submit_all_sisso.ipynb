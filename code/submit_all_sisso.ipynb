{
 "cells": [
  {
   "cell_type": "code",
   "execution_count": 10,
   "metadata": {},
   "outputs": [],
   "source": [
    "import os\n",
    "from time import sleep"
   ]
  },
  {
   "cell_type": "code",
   "execution_count": 11,
   "metadata": {},
   "outputs": [
    {
     "name": "stdout",
     "output_type": "stream",
     "text": [
      "Submitted batch job 3965968\n",
      "Submitted batch job 3965969\n",
      "Submitted batch job 3965970\n",
      "Submitted batch job 3965971\n",
      "Submitted batch job 3965972\n",
      "Submitted batch job 3965973\n",
      "Submitted batch job 3965974\n",
      "Submitted batch job 3965975\n",
      "Submitted batch job 3965976\n",
      "Submitted batch job 3965977\n",
      "Submitted batch job 3965978\n",
      "Submitted batch job 3965979\n",
      "Submitted batch job 3965980\n",
      "Submitted batch job 3965981\n",
      "Submitted batch job 3965982\n",
      "Submitted batch job 3965983\n",
      "Submitted batch job 3965984\n",
      "Submitted batch job 3965985\n",
      "Submitted batch job 3965986\n",
      "Submitted batch job 3965987\n",
      "Submitted batch job 3965988\n",
      "Submitted batch job 3965989\n",
      "Submitted batch job 3965990\n",
      "Submitted batch job 3965991\n",
      "Submitted batch job 3965992\n",
      "Submitted batch job 3965993\n",
      "Submitted batch job 3965994\n",
      "Submitted batch job 3965995\n"
     ]
    }
   ],
   "source": [
    "def search_and_execute_commands(directory):\n",
    "    for root, dirs, files in os.walk(directory):\n",
    "        if (\"sisso.py\" in files) and ('allops' in root):\n",
    "            os.chdir(root)\n",
    "            os.system('sbatch sisso.sub')\n",
    "            sleep(1)\n",
    "            \n",
    "# Specify the directory where you want to start the search\n",
    "directory = \"/home/hsang/ML/allops\"\n",
    "\n",
    "search_and_execute_commands(directory)"
   ]
  },
  {
   "cell_type": "code",
   "execution_count": 9,
   "metadata": {},
   "outputs": [
    {
     "name": "stderr",
     "output_type": "stream",
     "text": [
      "cp: '/home/hsang/ML/allops/Hads/all/sisso.py' and '/home/hsang/ML/allops/Hads/all/sisso.py' are the same file\n"
     ]
    }
   ],
   "source": [
    "for root, dirs, files in os.walk('/home/hsang/ML/allops'):\n",
    "    if 'sisso.py' in files:\n",
    "        os.system(f'cp /home/hsang/ML/allops/Hads/all/sisso.py {root}/')"
   ]
  },
  {
   "cell_type": "markdown",
   "metadata": {},
   "source": []
  }
 ],
 "metadata": {
  "kernelspec": {
   "display_name": "sissopp_env",
   "language": "python",
   "name": "python3"
  },
  "language_info": {
   "codemirror_mode": {
    "name": "ipython",
    "version": 3
   },
   "file_extension": ".py",
   "mimetype": "text/x-python",
   "name": "python",
   "nbconvert_exporter": "python",
   "pygments_lexer": "ipython3",
   "version": "3.9.20"
  }
 },
 "nbformat": 4,
 "nbformat_minor": 2
}
