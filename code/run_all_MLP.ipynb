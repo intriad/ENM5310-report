{
 "cells": [
  {
   "cell_type": "code",
   "execution_count": 1,
   "metadata": {},
   "outputs": [],
   "source": [
    "import os\n",
    "from time import sleep"
   ]
  },
  {
   "cell_type": "code",
   "execution_count": 2,
   "metadata": {},
   "outputs": [],
   "source": [
    "parent = '/scratch/alevoj1/intriad/ML/datasets/mxenes'\n",
    "\n",
    "datasets = ['H_ads_no_outliers.csv', 'N_ads_no_outliers.csv', 'N2H_ads_no_outliers.csv', 'NH2_ads_no_outliers.csv', 'NH3_ads_no_outliers.csv', 'NH_ads_no_outliers.csv', 'N2H2_ads_no_outliers.csv']\n",
    "features = ['elec.txt', 'geo.txt', 'tab.txt', 'all.txt']"
   ]
  },
  {
   "cell_type": "code",
   "execution_count": null,
   "metadata": {},
   "outputs": [
    {
     "name": "stderr",
     "output_type": "stream",
     "text": [
      "100%|██████████| 10000/10000 [00:34<00:00, 285.87it/s, loss=0.10054285]\n",
      "100%|██████████| 10000/10000 [00:34<00:00, 287.75it/s, loss=0.09803302]\n",
      "100%|██████████| 10000/10000 [00:35<00:00, 284.94it/s, loss=0.0856184] \n",
      "100%|██████████| 10000/10000 [00:34<00:00, 289.05it/s, loss=0.109567955]\n",
      "100%|██████████| 10000/10000 [00:35<00:00, 282.46it/s, loss=0.08158006]\n",
      "100%|██████████| 10000/10000 [00:34<00:00, 286.33it/s, loss=0.11061181]\n",
      "100%|██████████| 10000/10000 [00:35<00:00, 283.41it/s, loss=0.09203668]\n",
      "100%|██████████| 10000/10000 [00:34<00:00, 285.77it/s, loss=0.34406784]\n",
      "100%|██████████| 10000/10000 [00:34<00:00, 293.30it/s, loss=0.5929631]\n",
      "100%|██████████| 10000/10000 [00:35<00:00, 284.56it/s, loss=0.3886178]\n",
      "100%|██████████| 10000/10000 [00:34<00:00, 291.20it/s, loss=0.60088575]\n",
      "100%|██████████| 10000/10000 [00:34<00:00, 293.09it/s, loss=0.31916654]\n",
      "100%|██████████| 10000/10000 [00:34<00:00, 290.91it/s, loss=0.72094357]\n",
      "100%|██████████| 10000/10000 [00:35<00:00, 285.07it/s, loss=0.43897635]\n",
      "100%|██████████| 10000/10000 [00:34<00:00, 289.25it/s, loss=0.14207253]\n",
      "100%|██████████| 10000/10000 [00:34<00:00, 292.77it/s, loss=0.175912] \n",
      "100%|██████████| 10000/10000 [00:34<00:00, 288.03it/s, loss=0.15463644]\n",
      "100%|██████████| 10000/10000 [00:36<00:00, 277.59it/s, loss=0.19946617]\n",
      "100%|██████████| 10000/10000 [00:34<00:00, 288.03it/s, loss=0.14368084]\n",
      "100%|██████████| 10000/10000 [00:34<00:00, 290.53it/s, loss=0.23754555]\n",
      "100%|██████████| 10000/10000 [00:34<00:00, 288.40it/s, loss=0.1897112]\n",
      "100%|██████████| 10000/10000 [00:42<00:00, 237.49it/s, loss=0.062204324]\n",
      "100%|██████████| 10000/10000 [00:42<00:00, 236.21it/s, loss=0.06585488]\n",
      "100%|██████████| 10000/10000 [00:42<00:00, 234.31it/s, loss=0.062301748]\n",
      "100%|██████████| 10000/10000 [00:43<00:00, 231.66it/s, loss=0.06614716]\n",
      "100%|██████████| 10000/10000 [00:42<00:00, 236.88it/s, loss=0.057328265]\n",
      "100%|██████████| 10000/10000 [00:41<00:00, 239.34it/s, loss=0.066940956]\n",
      "100%|██████████| 10000/10000 [00:41<00:00, 239.39it/s, loss=0.059457272]\n"
     ]
    }
   ],
   "source": [
    "for feature in features:\n",
    "    for data in datasets:\n",
    "        sleep(5)\n",
    "        os.system(f'python /home/intriago/scripts/submissions/ML/enm5310/code/neuralnet.py {parent}/{feature} {parent}/{data}')"
   ]
  },
  {
   "cell_type": "code",
   "execution_count": null,
   "metadata": {},
   "outputs": [],
   "source": []
  }
 ],
 "metadata": {
  "kernelspec": {
   "display_name": "NeuralNet",
   "language": "python",
   "name": "python3"
  },
  "language_info": {
   "codemirror_mode": {
    "name": "ipython",
    "version": 3
   },
   "file_extension": ".py",
   "mimetype": "text/x-python",
   "name": "python",
   "nbconvert_exporter": "python",
   "pygments_lexer": "ipython3",
   "version": "3.11.10"
  }
 },
 "nbformat": 4,
 "nbformat_minor": 2
}
